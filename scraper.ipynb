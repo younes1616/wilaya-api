{
 "cells": [
  {
   "cell_type": "markdown",
   "id": "1197684c",
   "metadata": {},
   "source": [
    "# scraper"
   ]
  },
  {
   "cell_type": "code",
   "execution_count": 1,
   "id": "0617dac2",
   "metadata": {},
   "outputs": [],
   "source": [
    "# imports\n",
    "import requests\n",
    "import pandas as pd\n",
    "from bs4 import BeautifulSoup"
   ]
  },
  {
   "cell_type": "markdown",
   "id": "300c788a",
   "metadata": {},
   "source": [
    "## 1. Download basic data"
   ]
  },
  {
   "cell_type": "markdown",
   "id": "f5c81855",
   "metadata": {},
   "source": [
    "### Resources"
   ]
  },
  {
   "cell_type": "code",
   "execution_count": 22,
   "id": "e9da291f",
   "metadata": {},
   "outputs": [],
   "source": [
    "# Links of both the arabic and the latin version of the data, so we cat concatenate it later\n",
    "LT_LINK = 'https://www.interieur.gov.dz/index.php/fr/component/annuaires/annuairecommunes.html'\n",
    "AR_LINK = 'https://www.interieur.gov.dz/index.php/ar/component/annuaires/annuairecommunes.html'"
   ]
  },
  {
   "cell_type": "markdown",
   "id": "488f5fb5",
   "metadata": {},
   "source": [
    "### Functions"
   ]
  },
  {
   "cell_type": "code",
   "execution_count": 3,
   "id": "01171505",
   "metadata": {},
   "outputs": [],
   "source": [
    "def get_basic_data(link):\n",
    "    \"\"\"Download the basic Commune, Daira, and Wilaya data,\n",
    "    for both Latin and Arabic.\"\"\"\n",
    "    \n",
    "    data = []\n",
    "    \n",
    "    while 1:\n",
    "        # Download the first page\n",
    "        html = requests.get(link)\n",
    "        html = BeautifulSoup(html.text, 'html.parser')\n",
    "\n",
    "        # Check if the next page exists, or we're reached the end\n",
    "        suivant = html.find('li', {'class': 'pagination-next'}).find('a')\n",
    "\n",
    "        # Get all the rows data striped and cleaned\n",
    "        table = html.find('table', {'id': 'annuairecommuneList'}).find('tbody').find_all('tr')\n",
    "        for row in table:\n",
    "            data.append(strip_data(row))\n",
    "\n",
    "        # IN case it longer exists, it returns None\n",
    "        if suivant is not None:\n",
    "            link = 'https://www.interieur.gov.dz' + suivant['href']\n",
    "        else:\n",
    "            break\n",
    "\n",
    "    return data\n"
   ]
  },
  {
   "cell_type": "code",
   "execution_count": 4,
   "id": "07f05cec",
   "metadata": {},
   "outputs": [],
   "source": [
    "def strip_data(row):\n",
    "    \"\"\"The data is represented in rows, and table data tags,\n",
    "    therefore i needed to clean it.\"\"\"\n",
    "    \n",
    "    out_row = []\n",
    "    \n",
    "    for data in row.find_all('td'):\n",
    "        out_row.append(data.text.strip())\n",
    "    \n",
    "    # The first pop if fot the table id\n",
    "    # while the second is for the address, that is incorrect\n",
    "    out_row.pop(0)\n",
    "    out_row.pop(1)\n",
    "        \n",
    "    return out_row"
   ]
  },
  {
   "cell_type": "code",
   "execution_count": 5,
   "id": "725bc803",
   "metadata": {},
   "outputs": [],
   "source": [
    "# The basic Commune, Daira, and Wilaya data\n",
    "# for both Latin and Arabic\n",
    "# with the following format: baladiya,daira,wilaya\n",
    "basic_lt_data = get_basic_data(LT_LINK)\n",
    "basic_ar_data = get_basic_data(AR_LINK)"
   ]
  },
  {
   "cell_type": "markdown",
   "id": "ad7b7ff9",
   "metadata": {},
   "source": [
    "## 2. Download phone codes"
   ]
  },
  {
   "cell_type": "markdown",
   "id": "89af4b7a",
   "metadata": {},
   "source": [
    "### Resources\n",
    "\n",
    "- https://www.algerie-poste.net/code-postal/\n",
    "- https://fr.wikipedia.org/wiki/Liste_des_codes_t%C3%A9l%C3%A9phoniques_des_wilayas_d%27Alg%C3%A9rie"
   ]
  },
  {
   "cell_type": "code",
   "execution_count": 80,
   "id": "dbd3caf9",
   "metadata": {},
   "outputs": [],
   "source": [
    "# In this part I had to do it manually, since I counld't see another way.\n",
    "# The category corresponds to metropolic data\n",
    "# with the following format: wilaya-code,wilaya,wilaya-phone-code\n",
    "metro_data = [\n",
    "    [\"01\", \"ADRAR\", \"49\"],\n",
    "    [\"02\", \"CHLEeF\", \"27\"],\n",
    "    [\"03\", \"LAGHOUAT\", \"29\"],\n",
    "    [\"04\", \"OUM EL BOUAGHI\", \"32\"],\n",
    "    [\"05\", \"BATNA\", \"33\"],\n",
    "    [\"06\", \"BEJAIA\", \"34\"],\n",
    "    [\"07\", \"BISKRA\", \"33\"],\n",
    "    [\"08\", \"BECHAR\", \"49\"],\n",
    "    [\"09\", \"BLIDA\", \"25\"],\n",
    "    [\"10\", \"BOUIRA\", \"26\"],\n",
    "    [\"11\", \"TAMANRASSET\", \"29\"],\n",
    "    [\"12\", \"TEBESSA\", \"37\"],\n",
    "    [\"13\", \"TLEMCEN\", \"43\"],\n",
    "    [\"14\", \"TIARET\", \"46\"],\n",
    "    [\"15\", \"TIZI-OUZOU\", \"26\"],\n",
    "    [\"16\", \"ALGER\", \"21\", \"23\"],\n",
    "    [\"17\", \"DJELFA\", \"27\"],\n",
    "    [\"18\", \"JIJEL\", \"34\"],\n",
    "    [\"19\", \"SETIF\", \"36\"],\n",
    "    [\"20\", \"SAIDA\", \"48\"],\n",
    "    [\"21\", \"SKIKDA\", \"38\"],\n",
    "    [\"22\", \"SIDI BEL-ABBES\", \"48\"],\n",
    "    [\"23\", \"ANNABA\", \"38\"],\n",
    "    [\"24\", \"GUELMA\", \"37\"],\n",
    "    [\"25\", \"CONSTANTINE\", \"31\"],\n",
    "    [\"26\", \"MEDEA\", \"25\"],\n",
    "    [\"27\", \"MOSTAGANEM\", \"45\"],\n",
    "    [\"28\", \"M'SILA\", \"35\"],\n",
    "    [\"29\", \"MASCARA\", \"45\"],\n",
    "    [\"30\", \"OUARGLA\", \"29\"],\n",
    "    [\"31\", \"ORAN\", \"41\"],\n",
    "    [\"32\", \"EL BAYADH\", \"49\"],\n",
    "    [\"33\", \"ILLIZI\", \"29\"],\n",
    "    [\"34\", \"B.B.ARRERIDJ\", \"35\"],\n",
    "    [\"35\", \"BOUMERDES\", \"24\"],\n",
    "    [\"36\", \"EL TARF\", \"38\"],\n",
    "    [\"37\", \"TINDOUF\", \"49\"],\n",
    "    [\"38\", \"TISSEMSILT\", \"46\"],\n",
    "    [\"39\", \"EL-OUED\", \"32\"],\n",
    "    [\"40\", \"KHENCHELA\", \"32\"],\n",
    "    [\"41\", \"SOUK AHRAS\", \"37\"],\n",
    "    [\"42\", \"TIPAZA\", \"24\"],\n",
    "    [\"43\", \"MILA\", \"31\"],\n",
    "    [\"44\", \"AIN-DEFLA\", \"27\"],\n",
    "    [\"45\", \"NAAMA\", \"49\"],\n",
    "    [\"46\", \"AIN TEMOUCHENT\", \"43\"],\n",
    "    [\"47\", \"GHARDAIA\", \"29\"],\n",
    "    [\"48\", \"RELIZANE\", \"46\"],\n",
    "]"
   ]
  },
  {
   "cell_type": "markdown",
   "id": "2f38dc0d",
   "metadata": {},
   "source": [
    "## 3. Download post codes"
   ]
  },
  {
   "cell_type": "markdown",
   "id": "2f7bc9d9",
   "metadata": {},
   "source": [
    "### Resources"
   ]
  },
  {
   "cell_type": "code",
   "execution_count": 5,
   "id": "58c40c6b",
   "metadata": {},
   "outputs": [],
   "source": [
    "POST_LINK = 'https://www.algerie-poste.net/code-postal/'"
   ]
  },
  {
   "cell_type": "code",
   "execution_count": 12,
   "id": "73a1f45f",
   "metadata": {},
   "outputs": [],
   "source": [
    "# Download the first page\n",
    "html = requests.get('https://www.algerie-poste.net/code-postal/')\n",
    "html = BeautifulSoup(html.text, 'html.parser')"
   ]
  },
  {
   "cell_type": "code",
   "execution_count": 7,
   "id": "f70864b2",
   "metadata": {},
   "outputs": [],
   "source": [
    "temp = html.find_all('li', {'class': 'wilaya'})"
   ]
  },
  {
   "cell_type": "code",
   "execution_count": 8,
   "id": "77940ae5",
   "metadata": {},
   "outputs": [
    {
     "data": {
      "text/plain": [
       "[]"
      ]
     },
     "execution_count": 8,
     "metadata": {},
     "output_type": "execute_result"
    }
   ],
   "source": [
    "temp"
   ]
  },
  {
   "cell_type": "code",
   "execution_count": 13,
   "id": "e7942a4a",
   "metadata": {},
   "outputs": [
    {
     "data": {
      "text/plain": [
       "<!DOCTYPE HTML PUBLIC \"-//IETF//DTD HTML 2.0//EN\">\n",
       "\n",
       "<html><head>\n",
       "<title>403 Forbidden</title>\n",
       "</head><body>\n",
       "<h1>Forbidden</h1>\n",
       "<p>You don't have permission to access this resource.</p>\n",
       "<p>Additionally, a 403 Forbidden\n",
       "error was encountered while trying to use an ErrorDocument to handle the request.</p>\n",
       "</body></html>"
      ]
     },
     "execution_count": 13,
     "metadata": {},
     "output_type": "execute_result"
    }
   ],
   "source": [
    "html"
   ]
  },
  {
   "cell_type": "code",
   "execution_count": null,
   "id": "9dff7ed2",
   "metadata": {},
   "outputs": [],
   "source": []
  }
 ],
 "metadata": {
  "kernelspec": {
   "display_name": "Python 3 (ipykernel)",
   "language": "python",
   "name": "python3"
  },
  "language_info": {
   "codemirror_mode": {
    "name": "ipython",
    "version": 3
   },
   "file_extension": ".py",
   "mimetype": "text/x-python",
   "name": "python",
   "nbconvert_exporter": "python",
   "pygments_lexer": "ipython3",
   "version": "3.8.10"
  }
 },
 "nbformat": 4,
 "nbformat_minor": 5
}
